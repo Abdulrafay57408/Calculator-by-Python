{
  "nbformat": 4,
  "nbformat_minor": 0,
  "metadata": {
    "colab": {
      "provenance": []
    },
    "kernelspec": {
      "name": "python3",
      "display_name": "Python 3"
    },
    "language_info": {
      "name": "python"
    }
  },
  "cells": [
    {
      "cell_type": "code",
      "execution_count": null,
      "metadata": {
        "id": "3LjaSbk64RnS",
        "colab": {
          "base_uri": "https://localhost:8080/"
        },
        "outputId": "be8c6456-4aef-48a0-c589-f61f27b11086"
      },
      "outputs": [
        {
          "output_type": "stream",
          "name": "stdout",
          "text": [
            "\t WELCOME TO MY CALCULATOR \n",
            "\n",
            "Enter 1st number: 5\n",
            "Enter 2nd number: 4\n",
            "Enter an operator (+ , - , * , /) : +\n",
            "\n",
            " Answer:  9\n",
            "\n",
            "want to do more calaculations? ( yes or no )yes\n",
            "\n",
            "\n",
            "Enter 1st number: 9\n",
            "Enter 2nd number: 2\n",
            "Enter an operator (+ , - , * , /) : -\n",
            "\n",
            " Answer:  7\n",
            "\n",
            "want to do more calaculations? ( yes or no )yes\n",
            "\n",
            "\n",
            "Enter 1st number: 15\n",
            "Enter 2nd number: 5\n",
            "Enter an operator (+ , - , * , /) : /\n",
            "\n",
            " Answer:  3.0\n",
            "\n",
            "want to do more calaculations? ( yes or no )yes\n",
            "\n",
            "\n",
            "Enter 1st number: 5\n",
            "Enter 2nd number: 2\n",
            "Enter an operator (+ , - , * , /) : *\n",
            "\n",
            " Answer:  10\n",
            "\n",
            "want to do more calaculations? ( yes or no )no\n",
            "\n",
            "\n",
            "\t Thank You!!\n"
          ]
        }
      ],
      "source": [
        "print(\"\\t WELCOME TO MY CALCULATOR \\n\")\n",
        "while True :\n",
        "\n",
        "  firstNum = int(input(\"Enter 1st number: \"))\n",
        "  secondNum = int(input(\"Enter 2nd number: \"))\n",
        "  operator = input(\"Enter an operator (+ , - , * , /) : \")\n",
        "\n",
        "  if (operator == \"+\"):\n",
        "    print(\"\\n Answer: \", firstNum + secondNum)\n",
        "\n",
        "\n",
        "  elif (operator == \"-\"):\n",
        "    print(\"\\n Answer: \",firstNum - secondNum)\n",
        "\n",
        "\n",
        "  elif (operator == \"*\"):\n",
        "    print(\"\\n Answer: \",firstNum * secondNum)\n",
        "\n",
        "\n",
        "  elif (operator == \"/\"):\n",
        "    print(\"\\n Answer: \",firstNum / secondNum)\n",
        "\n",
        "\n",
        "  else:\n",
        "    print(\"Invalid operator\")\n",
        "\n",
        "  calculation = input(\"\\nWant to do more calaculations? ( Yes or No )\".lower())\n",
        "  print(\"\\n\")\n",
        "\n",
        "  if (calculation == \"no\" ):\n",
        "    print(\"\\t Thank You!!\")\n",
        "    break\n",
        "\n",
        "\n"
      ]
    },
    {
      "cell_type": "code",
      "source": [],
      "metadata": {
        "id": "UUOIG85NFDFz"
      },
      "execution_count": null,
      "outputs": []
    }
  ]
}